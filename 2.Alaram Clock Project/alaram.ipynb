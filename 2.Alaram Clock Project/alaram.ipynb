{
 "cells": [
  {
   "cell_type": "markdown",
   "metadata": {},
   "source": [
    "### Alarm Clock with Python"
   ]
  },
  {
   "cell_type": "markdown",
   "metadata": {},
   "source": [
    "As the title suggests, our task here is to write a python script that creates an alarm clock. For this task, I will be using the DateTime module in Python to create an alarm clock and the sound library in Python to play the alarm sound."
   ]
  },
  {
   "cell_type": "markdown",
   "metadata": {},
   "source": [
    "Install \"Playsound\" Moudules and using \"datatime\" Modules"
   ]
  },
  {
   "cell_type": "code",
   "execution_count": 12,
   "metadata": {},
   "outputs": [
    {
     "name": "stdout",
     "output_type": "stream",
     "text": [
      "10 26 00 PM\n",
      "Wake Up!\n"
     ]
    }
   ],
   "source": [
    "from datetime import datetime\n",
    "from playsound import playsound\n",
    "\n",
    "alarm_time = input(\"Enter the time of alarm to be set:HH:MM:SS\\n\")\n",
    "alarm_hour=alarm_time[0:2]\n",
    "alarm_minute=alarm_time[3:5]\n",
    "alarm_seconds=alarm_time[6:8]\n",
    "alarm_period = alarm_time[9:11].upper()\n",
    "print(alarm_hour ,alarm_minute,alarm_seconds,alarm_period)\n",
    "\n",
    "while True:\n",
    "    now = datetime.now()\n",
    "    current_hour = now.strftime(\"%I\")\n",
    "    current_minute = now.strftime(\"%M\")\n",
    "    current_seconds = now.strftime(\"%S\")\n",
    "    current_period = now.strftime(\"%p\")\n",
    "    if(alarm_period==current_period):\n",
    "        if(alarm_hour==current_hour):\n",
    "            if(alarm_minute==current_minute):\n",
    "                if(alarm_seconds==current_seconds):\n",
    "                    print(\"Wake Up!\")\n",
    "                    playsound('audio.mp3')\n",
    "                    break"
   ]
  },
  {
   "cell_type": "code",
   "execution_count": null,
   "metadata": {},
   "outputs": [],
   "source": []
  }
 ],
 "metadata": {
  "kernelspec": {
   "display_name": "py_project",
   "language": "python",
   "name": "python3"
  },
  "language_info": {
   "codemirror_mode": {
    "name": "ipython",
    "version": 3
   },
   "file_extension": ".py",
   "mimetype": "text/x-python",
   "name": "python",
   "nbconvert_exporter": "python",
   "pygments_lexer": "ipython3",
   "version": "3.12.7"
  }
 },
 "nbformat": 4,
 "nbformat_minor": 2
}
